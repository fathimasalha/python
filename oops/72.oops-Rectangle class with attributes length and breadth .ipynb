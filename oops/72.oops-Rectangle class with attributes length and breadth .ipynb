{
 "cells": [
  {
   "cell_type": "code",
   "execution_count": 1,
   "metadata": {},
   "outputs": [
    {
     "name": "stdout",
     "output_type": "stream",
     "text": [
      "Enter length of Rectangle1: 2\n",
      "Enter breadth of Rectangle1:3\n",
      "Enter length of Rectangle2:4\n",
      "Enter breadth of Rectangle2:5\n",
      "area oof rectangle 1: 6\n",
      "area of rectangle 2: 20\n",
      "perimeter of rectangle 1: 10\n",
      "perimeter of rectangle 2: 18\n",
      "Rectagle 2 is greater\n"
     ]
    }
   ],
   "source": [
    "#Rectangle class with attributes length&breadth \n",
    "\n",
    "class rectangle():\n",
    "    def get(self,l,b):\n",
    "        self.l=l\n",
    "        self.b=b\n",
    "    def area(self,l,b):\n",
    "        return l*b\n",
    "    def perimeter(self,l,b):\n",
    "        return 2*(l+b)\n",
    "\n",
    "r1=rectangle()\n",
    "r2=rectangle()\n",
    "l1=int(input(\"Enter length of Rectangle1: \"))\n",
    "b1=int(input(\"Enter breadth of Rectangle1:\"))\n",
    "l2=int(input(\"Enter length of Rectangle2:\"))\n",
    "b2=int(input(\"Enter breadth of Rectangle2:\"))\n",
    "p=r1.area(l1,b1)\n",
    "q=r2.area(l2,b2)\n",
    "s=r1.perimeter(l1,b1)\n",
    "t=r2.perimeter(l2,b2)\n",
    "print(\"area oof rectangle 1:\",p)\n",
    "print(\"area of rectangle 2:\",q)\n",
    "print(\"perimeter of rectangle 1:\",s)\n",
    "print(\"perimeter of rectangle 2:\",t)\n",
    "if(p>q):\n",
    "    print(\"Rectangle 1 is greater\")\n",
    "elif(p<q):\n",
    "    print(\"Rectagle 2 is greater\")\n",
    "else:\n",
    "    print(\"Rectangles are equal\")"
   ]
  },
  {
   "cell_type": "code",
   "execution_count": null,
   "metadata": {
    "collapsed": true
   },
   "outputs": [],
   "source": []
  }
 ],
 "metadata": {
  "kernelspec": {
   "display_name": "Python 3",
   "language": "python",
   "name": "python3"
  },
  "language_info": {
   "codemirror_mode": {
    "name": "ipython",
    "version": 3
   },
   "file_extension": ".py",
   "mimetype": "text/x-python",
   "name": "python",
   "nbconvert_exporter": "python",
   "pygments_lexer": "ipython3",
   "version": "3.6.3"
  }
 },
 "nbformat": 4,
 "nbformat_minor": 2
}
