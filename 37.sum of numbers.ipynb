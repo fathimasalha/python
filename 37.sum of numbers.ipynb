{
 "cells": [
  {
   "cell_type": "code",
   "execution_count": 1,
   "metadata": {},
   "outputs": [
    {
     "name": "stdout",
     "output_type": "stream",
     "text": [
      "how many numbers:3\n",
      "enter the number:45\n",
      "enter the number:46\n",
      "enter the number:34\n",
      "sum of the numbers in the list is: 125\n"
     ]
    }
   ],
   "source": [
    "#sum of all items in a list\n",
    "l=[]\n",
    "n=int(input(\"how many numbers:\"))\n",
    "for i in range(n):\n",
    "    a=int(input(\"enter the number:\"))\n",
    "    l.append(a)\n",
    "print(\"sum of the numbers in the list is:\",sum(l))    \n",
    "    "
   ]
  },
  {
   "cell_type": "code",
   "execution_count": null,
   "metadata": {
    "collapsed": true
   },
   "outputs": [],
   "source": []
  }
 ],
 "metadata": {
  "kernelspec": {
   "display_name": "Python 3",
   "language": "python",
   "name": "python3"
  },
  "language_info": {
   "codemirror_mode": {
    "name": "ipython",
    "version": 3
   },
   "file_extension": ".py",
   "mimetype": "text/x-python",
   "name": "python",
   "nbconvert_exporter": "python",
   "pygments_lexer": "ipython3",
   "version": "3.6.3"
  }
 },
 "nbformat": 4,
 "nbformat_minor": 2
}
