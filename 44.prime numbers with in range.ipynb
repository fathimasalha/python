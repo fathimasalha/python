{
 "cells": [
  {
   "cell_type": "code",
   "execution_count": 2,
   "metadata": {},
   "outputs": [
    {
     "name": "stdout",
     "output_type": "stream",
     "text": [
      "Enter the Lowest Range: 1\n",
      "Enter the Upper Range: 10\n",
      "The Prime Numbers in the range are: \n",
      "2\n",
      "3\n",
      "5\n",
      "7\n"
     ]
    }
   ],
   "source": [
    "#prime numbers with in a range\n",
    "l= int(input(\"Enter the Lowest Range: \"))  \n",
    "u= int(input(\"Enter the Upper Range: \"))  \n",
    "  \n",
    "print(\"The Prime Numbers in the range are: \")  \n",
    "for n in range(l,u+1):  \n",
    "    if n>1:  \n",
    "        for i in range (2,n):  \n",
    "            if(n%i)==0:  \n",
    "                break  \n",
    "        else:  \n",
    "            print(n)  "
   ]
  },
  {
   "cell_type": "code",
   "execution_count": null,
   "metadata": {
    "collapsed": true
   },
   "outputs": [],
   "source": []
  }
 ],
 "metadata": {
  "kernelspec": {
   "display_name": "Python 3",
   "language": "python",
   "name": "python3"
  },
  "language_info": {
   "codemirror_mode": {
    "name": "ipython",
    "version": 3
   },
   "file_extension": ".py",
   "mimetype": "text/x-python",
   "name": "python",
   "nbconvert_exporter": "python",
   "pygments_lexer": "ipython3",
   "version": "3.6.3"
  }
 },
 "nbformat": 4,
 "nbformat_minor": 2
}
