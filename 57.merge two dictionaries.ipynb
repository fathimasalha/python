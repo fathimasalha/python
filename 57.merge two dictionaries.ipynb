{
 "cells": [
  {
   "cell_type": "code",
   "execution_count": 6,
   "metadata": {},
   "outputs": [
    {
     "name": "stdout",
     "output_type": "stream",
     "text": [
      "first dic: {1: 'blue', 2: 'green', 3: 'yellow'}\n",
      "second dic: {4: 'black', 5: 'white'}\n",
      "\n",
      "Merged dictionary:\n",
      "{1: 'blue', 2: 'green', 3: 'yellow', 4: 'black', 5: 'white'}\n"
     ]
    }
   ],
   "source": [
    "#merge two dictionaries\n",
    "\n",
    "dic_1={1:'blue',2:'green',3:'yellow'}\n",
    "dic_2={4:'black',5:'white'}\n",
    "print(\"first dic:\",dic_1)\n",
    "print(\"second dic:\",dic_2)\n",
    "dic_1.update(dic_2)\n",
    "print(\"\\nMerged dictionary:\")\n",
    "print(dic_1)"
   ]
  },
  {
   "cell_type": "code",
   "execution_count": null,
   "metadata": {
    "collapsed": true
   },
   "outputs": [],
   "source": []
  }
 ],
 "metadata": {
  "kernelspec": {
   "display_name": "Python 3",
   "language": "python",
   "name": "python3"
  },
  "language_info": {
   "codemirror_mode": {
    "name": "ipython",
    "version": 3
   },
   "file_extension": ".py",
   "mimetype": "text/x-python",
   "name": "python",
   "nbconvert_exporter": "python",
   "pygments_lexer": "ipython3",
   "version": "3.6.3"
  }
 },
 "nbformat": 4,
 "nbformat_minor": 2
}
