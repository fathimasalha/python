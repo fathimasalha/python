{
 "cells": [
  {
   "cell_type": "code",
   "execution_count": null,
   "metadata": {},
   "outputs": [
    {
     "name": "stdout",
     "output_type": "stream",
     "text": [
      "1.Square\n",
      "2.Rectangle\n",
      "3.Triangle\n",
      "4.Exit\n",
      "\n",
      "enter your choice: 1\n",
      "enter side:4\n",
      "Area of square: 16\n",
      "1.Square\n",
      "2.Rectangle\n",
      "3.Triangle\n",
      "4.Exit\n",
      "\n",
      "enter your choice: 2\n",
      "enter length:4\n",
      "enter breadth:5\n",
      "Area of rectangle: 20\n",
      "1.Square\n",
      "2.Rectangle\n",
      "3.Triangle\n",
      "4.Exit\n",
      "\n",
      "enter your choice: 3\n",
      "enter breadth:5\n",
      "enter height:6\n",
      "Area of triangle: 15.0\n",
      "1.Square\n",
      "2.Rectangle\n",
      "3.Triangle\n",
      "4.Exit\n",
      "\n"
     ]
    }
   ],
   "source": [
    "#area of \n",
    "sqr=lambda a:a*a\n",
    "rect=lambda l,b:l*b\n",
    "tri=lambda b,h:(b*h)/2\n",
    "while(1):\n",
    "    print(\"1.Square\\n2.Rectangle\\n3.Triangle\\n4.Exit\\n\")\n",
    "    ch=int(input(\"enter your choice: \"))\n",
    "    if(ch==1):\n",
    "        a=int(input(\"enter side:\"))\n",
    "        print(\"Area of square:\",sqr(a))\n",
    "    elif(ch==2):\n",
    "        l=int(input(\"enter length:\"))\n",
    "        b=int(input(\"enter breadth:\"))\n",
    "        print(\"Area of rectangle:\",rect(l,b))\n",
    "    elif(ch==3):\n",
    "         b=int(input(\"enter breadth:\"))\n",
    "         h=int(input(\"enter height:\"))\n",
    "         print(\"Area of triangle:\",tri(b,h))\n",
    "    else:\n",
    "         print(\"Exiting....\")\n",
    "         break;   "
   ]
  },
  {
   "cell_type": "code",
   "execution_count": null,
   "metadata": {
    "collapsed": true
   },
   "outputs": [],
   "source": []
  }
 ],
 "metadata": {
  "kernelspec": {
   "display_name": "Python 3",
   "language": "python",
   "name": "python3"
  }
 },
 "nbformat": 4,
 "nbformat_minor": 2
}
