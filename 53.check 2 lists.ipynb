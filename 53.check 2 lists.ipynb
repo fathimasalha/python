{
 "cells": [
  {
   "cell_type": "code",
   "execution_count": 3,
   "metadata": {},
   "outputs": [
    {
     "name": "stdout",
     "output_type": "stream",
     "text": [
      "Two lists have unequal length\n",
      "sum of two list are  not equal\n",
      "2  occurs in both list\n",
      "3  occurs in both list\n"
     ]
    }
   ],
   "source": [
    "# 53-2 lists,check they are of same length ,list sums to same value ,any value occur in both\n",
    "lst1 = ['1','2','3','4']\n",
    "lst2 = ['3','5','2','100','12','12']\n",
    "sum1 =str(0)\n",
    "sum2 =str(0)\n",
    "if len(lst1)==len(lst2):\n",
    "    print(\"both list are of equal length\")\n",
    "else:\n",
    "    print(\"Two lists have unequal length\") \n",
    "for x in lst1:\n",
    "    sum1 = sum1+x\n",
    "for x in lst2:\n",
    "    sum2 = sum2+x\n",
    "if sum1==sum2:\n",
    "    a =\"equal\"  \n",
    "else:\n",
    "    a =\"not equal\"  \n",
    "print(\"sum of two list are\",a)  \n",
    "for x in lst1:\n",
    "    for y in lst2:\n",
    "        if x == y:\n",
    "            print(y,\"occurs in both list\")\n"
   ]
  },
  {
   "cell_type": "code",
   "execution_count": null,
   "metadata": {
    "collapsed": true
   },
   "outputs": [],
   "source": []
  },
  {
   "cell_type": "code",
   "execution_count": null,
   "metadata": {
    "collapsed": true
   },
   "outputs": [],
   "source": []
  }
 ],
 "metadata": {
  "kernelspec": {
   "display_name": "Python 3",
   "language": "python",
   "name": "python3"
  },
  "language_info": {
   "codemirror_mode": {
    "name": "ipython",
    "version": 3
   },
   "file_extension": ".py",
   "mimetype": "text/x-python",
   "name": "python",
   "nbconvert_exporter": "python",
   "pygments_lexer": "ipython3",
   "version": "3.6.3"
  }
 },
 "nbformat": 4,
 "nbformat_minor": 2
}
