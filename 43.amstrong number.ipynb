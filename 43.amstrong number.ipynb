{
 "cells": [
  {
   "cell_type": "code",
   "execution_count": 5,
   "metadata": {},
   "outputs": [
    {
     "name": "stdout",
     "output_type": "stream",
     "text": [
      "Enter a number: 153\n",
      "153 is a amstrong number\n"
     ]
    }
   ],
   "source": [
    "#check amstrong or not\n",
    "a=input(\"Enter a number: \")\n",
    "r=0\n",
    "for i in range(len(a)):\n",
    "    b=int(a[i])\n",
    "    r=r+(b** int(len(a)))\n",
    "if r==int(a):\n",
    "    print(a,\"is a amstrong number\")\n",
    "elif r!=int(a):\n",
    "    print(a,\"is not a amstrong number\")\n",
    "    \n"
   ]
  },
  {
   "cell_type": "markdown",
   "metadata": {},
   "source": []
  }
 ],
 "metadata": {
  "kernelspec": {
   "display_name": "Python 3",
   "language": "python",
   "name": "python3"
  },
  "language_info": {
   "codemirror_mode": {
    "name": "ipython",
    "version": 3
   },
   "file_extension": ".py",
   "mimetype": "text/x-python",
   "name": "python",
   "nbconvert_exporter": "python",
   "pygments_lexer": "ipython3",
   "version": "3.6.3"
  }
 },
 "nbformat": 4,
 "nbformat_minor": 2
}
