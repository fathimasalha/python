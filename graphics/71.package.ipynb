{
 "cells": [
  {
   "cell_type": "code",
   "execution_count": null,
   "metadata": {},
   "outputs": [
    {
     "name": "stdout",
     "output_type": "stream",
     "text": [
      "1.rectangle\n",
      "2.circle\n",
      "3.cuboid\n",
      "4.sphere\n",
      "5.exit\n",
      "enter your choice:1\n",
      "Enter length: 4\n",
      "Enter breadth: 5\n",
      "Area of rectangle: 20\n",
      "perimeter of rectangle: 18\n",
      "1.rectangle\n",
      "2.circle\n",
      "3.cuboid\n",
      "4.sphere\n",
      "5.exit\n",
      "enter your choice:2\n",
      "Enter radius: 4\n",
      "Area of circle: 50.24\n",
      "perimeter of circle: 25.12\n",
      "1.rectangle\n",
      "2.circle\n",
      "3.cuboid\n",
      "4.sphere\n",
      "5.exit\n",
      "enter your choice:3\n",
      "Enter length: 5\n",
      "Enter breadth: 6\n",
      "Enter height: 7\n",
      "Area of cuboid: 144\n",
      "Perimeter of cuboid: 72\n",
      "1.rectangle\n",
      "2.circle\n",
      "3.cuboid\n",
      "4.sphere\n",
      "5.exit\n",
      "enter your choice:4\n",
      "Enter radius: 5\n",
      "Area of sphere: 31.400000000000002\n",
      "Perimeter of sphere: 314.0\n",
      "1.rectangle\n",
      "2.circle\n",
      "3.cuboid\n",
      "4.sphere\n",
      "5.exit\n"
     ]
    }
   ],
   "source": [
    "from graphics import rectangle\n",
    "from graphics import circle\n",
    "from graphics.graphics3d import cuboid\n",
    "from graphics.graphics3d import sphere\n",
    "\n",
    "while(1):\n",
    "    print(\"1.rectangle\\n2.circle\\n3.cuboid\\n4.sphere\\n5.exit\")\n",
    "    ch=int(input(\"enter your choice:\"))\n",
    "    if ch==1:\n",
    "        l=int(input(\"Enter length: \"))\n",
    "        b=int(input(\"Enter breadth: \"))\n",
    "        rectangle.rectarea(l,b)\n",
    "        rectangle.rectperi(l,b)\n",
    "    elif ch==2:\n",
    "        r=int(input(\"Enter radius: \"))\n",
    "        circle.circlearea(r)\n",
    "        circle.circleperi(r)\n",
    "    elif ch==3:\n",
    "        l=int(input(\"Enter length: \"))\n",
    "        b=int(input(\"Enter breadth: \"))\n",
    "        h=int(input(\"Enter height: \"))\n",
    "        cuboid.cuboidarea(l,b,h)\n",
    "        cuboid.cuboidperi(l,b,h)\n",
    "    elif ch==4:\n",
    "        r=int(input(\"Enter radius: \"))\n",
    "        sphere.spherearea(r)\n",
    "        sphere.sphereperi(r)\n",
    "    else:\n",
    "        print(\"Exiting...\")\n",
    "        break"
   ]
  },
  {
   "cell_type": "code",
   "execution_count": null,
   "metadata": {
    "collapsed": true
   },
   "outputs": [],
   "source": []
  }
 ],
 "metadata": {
  "kernelspec": {
   "display_name": "Python 3",
   "language": "python",
   "name": "python3"
  },
  "language_info": {
   "codemirror_mode": {
    "name": "ipython",
    "version": 3
   },
   "file_extension": ".py",
   "mimetype": "text/x-python",
   "name": "python",
   "nbconvert_exporter": "python",
   "pygments_lexer": "ipython3",
   "version": "3.6.3"
  }
 },
 "nbformat": 4,
 "nbformat_minor": 2
}
