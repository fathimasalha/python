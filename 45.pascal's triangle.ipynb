{
 "cells": [
  {
   "cell_type": "code",
   "execution_count": 6,
   "metadata": {},
   "outputs": [
    {
     "name": "stdout",
     "output_type": "stream",
     "text": [
      "enter a range:5\n",
      "      1\n",
      "     1 1\n",
      "    1 2 1\n",
      "   1 3 3 1\n",
      "  1 4 6 4 1\n"
     ]
    }
   ],
   "source": [
    "#Print Pascal's Triangle \n",
    "n=int(input(\"enter a range:\"))\n",
    "for i in range(1, n+1):\n",
    "    for j in range(0, n-i+1):\n",
    "        print(' ',end='')\n",
    "    C=1\n",
    "    for j in range(1,i+1):\n",
    "        print(' ',C,sep='',end='')\n",
    "        C=C*(i - j)//j\n",
    "    print()"
   ]
  },
  {
   "cell_type": "code",
   "execution_count": null,
   "metadata": {
    "collapsed": true
   },
   "outputs": [],
   "source": []
  }
 ],
 "metadata": {
  "kernelspec": {
   "display_name": "Python 3",
   "language": "python",
   "name": "python3"
  },
  "language_info": {
   "codemirror_mode": {
    "name": "ipython",
    "version": 3
   },
   "file_extension": ".py",
   "mimetype": "text/x-python",
   "name": "python",
   "nbconvert_exporter": "python",
   "pygments_lexer": "ipython3",
   "version": "3.6.3"
  }
 },
 "nbformat": 4,
 "nbformat_minor": 2
}
