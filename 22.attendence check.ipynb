{
 "cells": [
  {
   "cell_type": "code",
   "execution_count": 3,
   "metadata": {},
   "outputs": [
    {
     "name": "stdout",
     "output_type": "stream",
     "text": [
      "enter the number of classes  held:120\n",
      "enter the number of classes attended:78\n",
      "65.0\n",
      "not allowed\n"
     ]
    }
   ],
   "source": [
    "c=int(input(\"enter the number of classes  held:\"))\n",
    "a=int(input(\"enter the number of classes attended:\"))\n",
    "per=(a/c)*100\n",
    "print(per)\n",
    "if(per>=75):\n",
    "    print(\"allowed\")\n",
    "else:\n",
    "    print(\"not allowed\")"
   ]
  },
  {
   "cell_type": "code",
   "execution_count": null,
   "metadata": {
    "collapsed": true
   },
   "outputs": [],
   "source": []
  }
 ],
 "metadata": {
  "kernelspec": {
   "display_name": "Python 3",
   "language": "python",
   "name": "python3"
  },
  "language_info": {
   "codemirror_mode": {
    "name": "ipython",
    "version": 3
   },
   "file_extension": ".py",
   "mimetype": "text/x-python",
   "name": "python",
   "nbconvert_exporter": "python",
   "pygments_lexer": "ipython3",
   "version": "3.6.3"
  }
 },
 "nbformat": 4,
 "nbformat_minor": 2
}
