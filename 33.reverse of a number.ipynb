{
 "cells": [
  {
   "cell_type": "code",
   "execution_count": 3,
   "metadata": {},
   "outputs": [
    {
     "name": "stdout",
     "output_type": "stream",
     "text": [
      "enter a number: 678\n",
      "reverse of the number is: 876\n"
     ]
    }
   ],
   "source": [
    "#reverse of a number\n",
    "n=int(input(\"enter a number: \"))    \n",
    "rev=0    \n",
    "while(n>0):    \n",
    "    r=n%10    \n",
    "    rev=(rev*10)+r   \n",
    "    n=n//10    \n",
    "     \n",
    "print(\"reverse of the number is:\",rev)   "
   ]
  },
  {
   "cell_type": "code",
   "execution_count": null,
   "metadata": {
    "collapsed": true
   },
   "outputs": [],
   "source": []
  }
 ],
 "metadata": {
  "kernelspec": {
   "display_name": "Python 3",
   "language": "python",
   "name": "python3"
  },
  "language_info": {
   "codemirror_mode": {
    "name": "ipython",
    "version": 3
   },
   "file_extension": ".py",
   "mimetype": "text/x-python",
   "name": "python",
   "nbconvert_exporter": "python",
   "pygments_lexer": "ipython3",
   "version": "3.6.3"
  }
 },
 "nbformat": 4,
 "nbformat_minor": 2
}
