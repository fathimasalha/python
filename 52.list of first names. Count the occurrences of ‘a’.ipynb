{
 "cells": [
  {
   "cell_type": "code",
   "execution_count": 1,
   "metadata": {},
   "outputs": [
    {
     "name": "stdout",
     "output_type": "stream",
     "text": [
      "names= ['alice', 'akshay', 'binoy', 'joy', 'ramesh']\n",
      "occurence of a in ['alice', 'akshay', 'binoy', 'joy', 'ramesh']  is: 4\n"
     ]
    }
   ],
   "source": [
    "#list of first name.occurence of 'a'\n",
    "names=['alice','akshay','binoy','joy','ramesh']\n",
    "print(\"names=\",names)\n",
    "count=0\n",
    "for name in names:\n",
    "    count+=name.count('a')\n",
    "print(\"occurence of a in\",names,\" is:\",count)\n"
   ]
  },
  {
   "cell_type": "code",
   "execution_count": null,
   "metadata": {
    "collapsed": true
   },
   "outputs": [],
   "source": []
  }
 ],
 "metadata": {
  "kernelspec": {
   "display_name": "Python 3",
   "language": "python",
   "name": "python3"
  },
  "language_info": {
   "codemirror_mode": {
    "name": "ipython",
    "version": 3
   },
   "file_extension": ".py",
   "mimetype": "text/x-python",
   "name": "python",
   "nbconvert_exporter": "python",
   "pygments_lexer": "ipython3",
   "version": "3.6.3"
  }
 },
 "nbformat": 4,
 "nbformat_minor": 2
}
