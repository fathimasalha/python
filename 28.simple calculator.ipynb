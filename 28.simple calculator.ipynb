{
 "cells": [
  {
   "cell_type": "code",
   "execution_count": 6,
   "metadata": {},
   "outputs": [
    {
     "name": "stdout",
     "output_type": "stream",
     "text": [
      "select the operation to perform:\n",
      "1.Add\n",
      "2.Substract\n",
      "3.Multiply\n",
      "4.Divide\n",
      "Enter Choice(1-4): 1\n",
      "enter first number:5\n",
      "enter second number:6\n",
      "additionf:11.00\n"
     ]
    }
   ],
   "source": [
    "print(\"select the operation to perform:\")\n",
    "print(\"1.Add\")\n",
    "print(\"2.Substract\")\n",
    "print(\"3.Multiply\")\n",
    "print(\"4.Divide\")\n",
    "ch=int(input(\"Enter Choice(1-4): \"))\n",
    "num1=float(input(\"enter first number:\"))\n",
    "num2=float(input(\"enter second number:\"))\n",
    "if(ch==1):\n",
    "    print(\"additionf:%.2f\" %(num1+num2))\n",
    "elif(ch==2):\n",
    "    print(\"substraction:%.2f\" %(num1-num2))\n",
    "elif(ch==3):\n",
    "    print(\"multiplication::%.2f\" %(num1*num2))\n",
    "elif(ch==4):\n",
    "    print(\"division:%.2f\" %(num1/num2))\n",
    "else:\n",
    "    print(\"invalid!\")"
   ]
  },
  {
   "cell_type": "code",
   "execution_count": null,
   "metadata": {
    "collapsed": true
   },
   "outputs": [],
   "source": []
  },
  {
   "cell_type": "code",
   "execution_count": null,
   "metadata": {
    "collapsed": true
   },
   "outputs": [],
   "source": []
  }
 ],
 "metadata": {
  "kernelspec": {
   "display_name": "Python 3",
   "language": "python",
   "name": "python3"
  },
  "language_info": {
   "codemirror_mode": {
    "name": "ipython",
    "version": 3
   },
   "file_extension": ".py",
   "mimetype": "text/x-python",
   "name": "python",
   "nbconvert_exporter": "python",
   "pygments_lexer": "ipython3",
   "version": "3.6.3"
  }
 },
 "nbformat": 4,
 "nbformat_minor": 2
}
