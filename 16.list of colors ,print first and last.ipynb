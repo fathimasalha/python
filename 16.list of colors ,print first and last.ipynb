{
 "cells": [
  {
   "cell_type": "code",
   "execution_count": 1,
   "metadata": {},
   "outputs": [
    {
     "name": "stdout",
     "output_type": "stream",
     "text": [
      "enter color separated by commas:red,blue,green\n",
      "['red', 'blue', 'green']\n",
      "first color= red\n",
      "last color= green\n"
     ]
    }
   ],
   "source": [
    "l=input(\"enter color separated by commas:\")\n",
    "s=l.split(\",\")\n",
    "print(s)\n",
    "a=s[0]\n",
    "b=s[-1]\n",
    "print(\"first color=\",a)\n",
    "print(\"last color=\",b)\n",
    "\n"
   ]
  },
  {
   "cell_type": "code",
   "execution_count": null,
   "metadata": {
    "collapsed": true
   },
   "outputs": [],
   "source": []
  },
  {
   "cell_type": "code",
   "execution_count": null,
   "metadata": {
    "collapsed": true
   },
   "outputs": [],
   "source": []
  }
 ],
 "metadata": {
  "kernelspec": {
   "display_name": "Python 3",
   "language": "python",
   "name": "python3"
  },
  "language_info": {
   "codemirror_mode": {
    "name": "ipython",
    "version": 3
   },
   "file_extension": ".py",
   "mimetype": "text/x-python",
   "name": "python",
   "nbconvert_exporter": "python",
   "pygments_lexer": "ipython3",
   "version": "3.6.3"
  }
 },
 "nbformat": 4,
 "nbformat_minor": 2
}
