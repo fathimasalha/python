{
 "cells": [
  {
   "cell_type": "code",
   "execution_count": 12,
   "metadata": {},
   "outputs": [
    {
     "name": "stdout",
     "output_type": "stream",
     "text": [
      "enter numbers with comma separated:1,-7,9,6\n",
      "positive integers of the list are: [1, 9, 6]\n",
      "sqare of numbers in list: [1, 49, 81, 36]\n",
      "enter a word:salha\n",
      "vowel in salha are ['a', 'a']\n",
      "ordinal values of ['s', 'a', 'l', 'h', 'a'] are: [115, 97, 108, 104, 97]\n"
     ]
    }
   ],
   "source": [
    "#list of positive numbers from\n",
    "n=input(\"enter numbers with comma separated:\").split(',')\n",
    "m=map(int,n)\n",
    "p=[x for x in m if x>0]\n",
    "print(\"positive integers of the list are:\",p)\n",
    "\n",
    "#square of N numbers\n",
    "a=map(int,n)\n",
    "sqrl=[x**2 for x in a]\n",
    "print(\"sqare of numbers in list:\",sqrl)\n",
    "\n",
    "#list of vowels\n",
    "v=input(\"enter a word:\")\n",
    "w=[x for x in v]\n",
    "y=['a','e','i','o','u','A','E','I','O','U']\n",
    "z=[x for x in w if x in y]\n",
    "print(\"vowel in\",v,\"are\",z)\n",
    "\n",
    "#ordinal values\n",
    "o=[ord(x) for x in w]\n",
    "print(\"ordinal values of\",w,\"are:\",o)"
   ]
  },
  {
   "cell_type": "code",
   "execution_count": null,
   "metadata": {
    "collapsed": true
   },
   "outputs": [],
   "source": []
  }
 ],
 "metadata": {
  "kernelspec": {
   "display_name": "Python 3",
   "language": "python",
   "name": "python3"
  },
  "language_info": {
   "codemirror_mode": {
    "name": "ipython",
    "version": 3
   },
   "file_extension": ".py",
   "mimetype": "text/x-python",
   "name": "python",
   "nbconvert_exporter": "python",
   "pygments_lexer": "ipython3",
   "version": "3.6.3"
  }
 },
 "nbformat": 4,
 "nbformat_minor": 2
}
