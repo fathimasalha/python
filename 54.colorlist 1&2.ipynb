{
 "cells": [
  {
   "cell_type": "code",
   "execution_count": 3,
   "metadata": {},
   "outputs": [
    {
     "name": "stdout",
     "output_type": "stream",
     "text": [
      "Original set of colors:\n",
      "{'Black', 'Red', 'White'}\n",
      "{'Green', 'Red'}\n",
      "\n",
      "colors in color_list1 not contained in color_list2:\n",
      "{'Black', 'White'}\n"
     ]
    }
   ],
   "source": [
    "# Print out all colors from color-list1 not contained in color-list2\n",
    "\n",
    "color_list1 = set([\"White\", \"Black\", \"Red\"])\n",
    "color_list2 = set([\"Red\", \"Green\"])\n",
    "print(\"Original set of colors:\")\n",
    "print(color_list1)\n",
    "print(color_list2)\n",
    "print(\"\\ncolors in color_list1 not contained in color_list2:\")\n",
    "print(color_list1.difference(color_list2))\n"
   ]
  },
  {
   "cell_type": "code",
   "execution_count": null,
   "metadata": {
    "collapsed": true
   },
   "outputs": [],
   "source": []
  }
 ],
 "metadata": {
  "kernelspec": {
   "display_name": "Python 3",
   "language": "python",
   "name": "python3"
  },
  "language_info": {
   "codemirror_mode": {
    "name": "ipython",
    "version": 3
   },
   "file_extension": ".py",
   "mimetype": "text/x-python",
   "name": "python",
   "nbconvert_exporter": "python",
   "pygments_lexer": "ipython3",
   "version": "3.6.3"
  }
 },
 "nbformat": 4,
 "nbformat_minor": 2
}
