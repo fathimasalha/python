{
 "cells": [
  {
   "cell_type": "code",
   "execution_count": 2,
   "metadata": {},
   "outputs": [
    {
     "name": "stdout",
     "output_type": "stream",
     "text": [
      "enter numbers with comma separated:4,6,5,4\n",
      "true,the first and last number is same.\n"
     ]
    }
   ],
   "source": [
    "a=input(\"enter numbers with comma separated:\")\n",
    "b=a.split(\",\")\n",
    "if(b[0]==b[-1]):\n",
    "    print(\"true,the first and last number is same.\")\n",
    "else:\n",
    "    print(\"false,the first and last number is different.\")\n",
    "    "
   ]
  },
  {
   "cell_type": "code",
   "execution_count": null,
   "metadata": {
    "collapsed": true
   },
   "outputs": [],
   "source": []
  }
 ],
 "metadata": {
  "kernelspec": {
   "display_name": "Python 3",
   "language": "python",
   "name": "python3"
  },
  "language_info": {
   "codemirror_mode": {
    "name": "ipython",
    "version": 3
   },
   "file_extension": ".py",
   "mimetype": "text/x-python",
   "name": "python",
   "nbconvert_exporter": "python",
   "pygments_lexer": "ipython3",
   "version": "3.6.3"
  }
 },
 "nbformat": 4,
 "nbformat_minor": 2
}
