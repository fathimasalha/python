{
 "cells": [
  {
   "cell_type": "code",
   "execution_count": 1,
   "metadata": {},
   "outputs": [
    {
     "name": "stdout",
     "output_type": "stream",
     "text": [
      "enter a charecter:H\n",
      "H is not vowel.\n"
     ]
    }
   ],
   "source": [
    "ch=input(\"enter a charecter:\")\n",
    "if(ch=='a' or ch=='A' or ch=='e'or ch=='E' or ch=='i' or ch=='I' or ch=='o' or ch=='O' or ch=='u'or ch=='U'):\n",
    "    print(ch,\"is vowel.\")\n",
    "else:\n",
    "    print(ch,\"is not vowel.\")"
   ]
  },
  {
   "cell_type": "code",
   "execution_count": null,
   "metadata": {
    "collapsed": true
   },
   "outputs": [],
   "source": []
  }
 ],
 "metadata": {
  "kernelspec": {
   "display_name": "Python 3",
   "language": "python",
   "name": "python3"
  },
  "language_info": {
   "codemirror_mode": {
    "name": "ipython",
    "version": 3
   },
   "file_extension": ".py",
   "mimetype": "text/x-python",
   "name": "python",
   "nbconvert_exporter": "python",
   "pygments_lexer": "ipython3",
   "version": "3.6.3"
  }
 },
 "nbformat": 4,
 "nbformat_minor": 2
}
