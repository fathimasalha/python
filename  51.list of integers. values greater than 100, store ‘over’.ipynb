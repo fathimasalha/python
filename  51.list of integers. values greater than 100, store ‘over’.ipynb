{
 "cells": [
  {
   "cell_type": "code",
   "execution_count": 3,
   "metadata": {},
   "outputs": [
    {
     "name": "stdout",
     "output_type": "stream",
     "text": [
      "enter an integer('enter stop to stop'):199\n",
      "enter an integer('enter stop to stop'):100\n",
      "enter an integer('enter stop to stop'):12\n",
      "enter an integer('enter stop to stop'):116\n",
      "enter an integer('enter stop to stop'):stop\n",
      "['over', 100, 12, 'over']\n"
     ]
    }
   ],
   "source": [
    "#list of integers. values greater than 100, store ‘over’    \n",
    "values=[]\n",
    "while True:\n",
    "    value = input(\"enter an integer('enter stop to stop'):\")\n",
    "    if value == 'stop':\n",
    "        break\n",
    "    elif int(value)>100:\n",
    "        values.append('over')\n",
    "    else:\n",
    "        values.append(int(value))\n",
    "print(values)\n",
    "\n",
    "    "
   ]
  },
  {
   "cell_type": "code",
   "execution_count": null,
   "metadata": {
    "collapsed": true
   },
   "outputs": [],
   "source": []
  }
 ],
 "metadata": {
  "kernelspec": {
   "display_name": "Python 3",
   "language": "python",
   "name": "python3"
  },
  "language_info": {
   "codemirror_mode": {
    "name": "ipython",
    "version": 3
   },
   "file_extension": ".py",
   "mimetype": "text/x-python",
   "name": "python",
   "nbconvert_exporter": "python",
   "pygments_lexer": "ipython3",
   "version": "3.6.3"
  }
 },
 "nbformat": 4,
 "nbformat_minor": 2
}
