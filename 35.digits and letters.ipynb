{
 "cells": [
  {
   "cell_type": "code",
   "execution_count": 2,
   "metadata": {},
   "outputs": [
    {
     "name": "stdout",
     "output_type": "stream",
     "text": [
      "enter a string:albc345\n",
      "letters 4\n",
      "digits 3\n"
     ]
    }
   ],
   "source": [
    "#letters and digits\n",
    "n=input(\"enter a string:\")\n",
    "a=b=0\n",
    "for i in n:\n",
    "    if i.isdigit():\n",
    "        a=a+1\n",
    "    elif i.isalpha():\n",
    "        b=b+1\n",
    "    else:\n",
    "        pass\n",
    "print(\"letters\",b)\n",
    "print(\"digits\",a)\n",
    "    "
   ]
  },
  {
   "cell_type": "code",
   "execution_count": null,
   "metadata": {
    "collapsed": true
   },
   "outputs": [],
   "source": []
  }
 ],
 "metadata": {
  "kernelspec": {
   "display_name": "Python 3",
   "language": "python",
   "name": "python3"
  },
  "language_info": {
   "codemirror_mode": {
    "name": "ipython",
    "version": 3
   },
   "file_extension": ".py",
   "mimetype": "text/x-python",
   "name": "python",
   "nbconvert_exporter": "python",
   "pygments_lexer": "ipython3",
   "version": "3.6.3"
  }
 },
 "nbformat": 4,
 "nbformat_minor": 2
}
