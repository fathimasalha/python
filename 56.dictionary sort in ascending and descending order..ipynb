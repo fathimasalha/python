{
 "cells": [
  {
   "cell_type": "code",
   "execution_count": 1,
   "metadata": {},
   "outputs": [
    {
     "name": "stdout",
     "output_type": "stream",
     "text": [
      "Ascending order is: [('ben', 14), ('dev', 15), ('joel', 13), ('tiya', 12)]\n",
      "Descending order is: [('tiya', 12), ('joel', 13), ('dev', 15), ('ben', 14)]\n",
      "Dictionary {'tiya': 12, 'joel': 13, 'dev': 15, 'ben': 14}\n"
     ]
    }
   ],
   "source": [
    "#dictionary sort in ascending and descending order.\n",
    "a={'tiya':12,'joel':13,'dev':15,'ben':14}\n",
    "l=list(a.items())\n",
    "l.sort()            \n",
    "print('Ascending order is:',l)\n",
    "l=list(a.items())\n",
    "l.sort(reverse=True)\n",
    "print('Descending order is:',l)\n",
    "dict=dict(l)\n",
    "print(\"Dictionary\",dict)"
   ]
  },
  {
   "cell_type": "code",
   "execution_count": null,
   "metadata": {
    "collapsed": true
   },
   "outputs": [],
   "source": []
  }
 ],
 "metadata": {
  "kernelspec": {
   "display_name": "Python 3",
   "language": "python",
   "name": "python3"
  },
  "language_info": {
   "codemirror_mode": {
    "name": "ipython",
    "version": 3
   },
   "file_extension": ".py",
   "mimetype": "text/x-python",
   "name": "python",
   "nbconvert_exporter": "python",
   "pygments_lexer": "ipython3",
   "version": "3.6.3"
  }
 },
 "nbformat": 4,
 "nbformat_minor": 2
}
